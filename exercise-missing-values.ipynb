{
 "cells": [
  {
   "cell_type": "markdown",
   "id": "d611d0a9",
   "metadata": {
    "papermill": {
     "duration": 0.015352,
     "end_time": "2023-08-16T20:12:01.667523",
     "exception": false,
     "start_time": "2023-08-16T20:12:01.652171",
     "status": "completed"
    },
    "tags": []
   },
   "source": [
    "**This notebook is an exercise in the [Intermediate Machine Learning](https://www.kaggle.com/learn/intermediate-machine-learning) course.  You can reference the tutorial at [this link](https://www.kaggle.com/alexisbcook/missing-values).**\n",
    "\n",
    "---\n"
   ]
  },
  {
   "cell_type": "markdown",
   "id": "375a5705",
   "metadata": {
    "papermill": {
     "duration": 0.011519,
     "end_time": "2023-08-16T20:12:01.691055",
     "exception": false,
     "start_time": "2023-08-16T20:12:01.679536",
     "status": "completed"
    },
    "tags": []
   },
   "source": [
    "Now it's your turn to test your new knowledge of **missing values** handling. You'll probably find it makes a big difference.\n",
    "\n",
    "# Setup\n",
    "\n",
    "The questions will give you feedback on your work. Run the following cell to set up the feedback system."
   ]
  },
  {
   "cell_type": "code",
   "execution_count": 1,
   "id": "ee349b11",
   "metadata": {
    "execution": {
     "iopub.execute_input": "2023-08-16T20:12:01.717599Z",
     "iopub.status.busy": "2023-08-16T20:12:01.716918Z",
     "iopub.status.idle": "2023-08-16T20:12:01.774572Z",
     "shell.execute_reply": "2023-08-16T20:12:01.773626Z"
    },
    "papermill": {
     "duration": 0.074288,
     "end_time": "2023-08-16T20:12:01.777436",
     "exception": false,
     "start_time": "2023-08-16T20:12:01.703148",
     "status": "completed"
    },
    "tags": []
   },
   "outputs": [
    {
     "name": "stdout",
     "output_type": "stream",
     "text": [
      "Setup Complete\n"
     ]
    }
   ],
   "source": [
    "# Set up code checking\n",
    "import os\n",
    "if not os.path.exists(\"../input/train.csv\"):\n",
    "    os.symlink(\"../input/home-data-for-ml-course/train.csv\", \"../input/train.csv\")  \n",
    "    os.symlink(\"../input/home-data-for-ml-course/test.csv\", \"../input/test.csv\") \n",
    "from learntools.core import binder\n",
    "binder.bind(globals())\n",
    "from learntools.ml_intermediate.ex2 import *\n",
    "print(\"Setup Complete\")"
   ]
  },
  {
   "cell_type": "markdown",
   "id": "d09e7955",
   "metadata": {
    "papermill": {
     "duration": 0.011531,
     "end_time": "2023-08-16T20:12:01.801156",
     "exception": false,
     "start_time": "2023-08-16T20:12:01.789625",
     "status": "completed"
    },
    "tags": []
   },
   "source": [
    "In this exercise, you will work with data from the [Housing Prices Competition for Kaggle Learn Users](https://www.kaggle.com/c/home-data-for-ml-course). \n",
    "\n",
    "![Ames Housing dataset image](https://storage.googleapis.com/kaggle-media/learn/images/lTJVG4e.png)\n",
    "\n",
    "Run the next code cell without changes to load the training and validation sets in `X_train`, `X_valid`, `y_train`, and `y_valid`.  The test set is loaded in `X_test`."
   ]
  },
  {
   "cell_type": "code",
   "execution_count": 2,
   "id": "ccd0383d",
   "metadata": {
    "execution": {
     "iopub.execute_input": "2023-08-16T20:12:01.827465Z",
     "iopub.status.busy": "2023-08-16T20:12:01.826452Z",
     "iopub.status.idle": "2023-08-16T20:12:03.447599Z",
     "shell.execute_reply": "2023-08-16T20:12:03.446685Z"
    },
    "papermill": {
     "duration": 1.637552,
     "end_time": "2023-08-16T20:12:03.450583",
     "exception": false,
     "start_time": "2023-08-16T20:12:01.813031",
     "status": "completed"
    },
    "tags": []
   },
   "outputs": [
    {
     "name": "stderr",
     "output_type": "stream",
     "text": [
      "/opt/conda/lib/python3.10/site-packages/scipy/__init__.py:146: UserWarning: A NumPy version >=1.16.5 and <1.23.0 is required for this version of SciPy (detected version 1.23.5\n",
      "  warnings.warn(f\"A NumPy version >={np_minversion} and <{np_maxversion}\"\n"
     ]
    }
   ],
   "source": [
    "import pandas as pd\n",
    "from sklearn.model_selection import train_test_split\n",
    "\n",
    "# Read the data\n",
    "X_full = pd.read_csv('../input/train.csv', index_col='Id')\n",
    "X_test_full = pd.read_csv('../input/test.csv', index_col='Id')\n",
    "\n",
    "# Remove rows with missing target, separate target from predictors\n",
    "X_full.dropna(axis=0, subset=['SalePrice'], inplace=True)\n",
    "y = X_full.SalePrice\n",
    "X_full.drop(['SalePrice'], axis=1, inplace=True)\n",
    "\n",
    "# To keep things simple, we'll use only numerical predictors\n",
    "X = X_full.select_dtypes(exclude=['object'])\n",
    "X_test = X_test_full.select_dtypes(exclude=['object'])\n",
    "\n",
    "# Break off validation set from training data\n",
    "X_train, X_valid, y_train, y_valid = train_test_split(X, y, train_size=0.8, test_size=0.2,\n",
    "                                                      random_state=0)"
   ]
  },
  {
   "cell_type": "markdown",
   "id": "7fb67706",
   "metadata": {
    "papermill": {
     "duration": 0.011847,
     "end_time": "2023-08-16T20:12:03.475082",
     "exception": false,
     "start_time": "2023-08-16T20:12:03.463235",
     "status": "completed"
    },
    "tags": []
   },
   "source": [
    "Use the next code cell to print the first five rows of the data."
   ]
  },
  {
   "cell_type": "code",
   "execution_count": 3,
   "id": "8223a2fa",
   "metadata": {
    "execution": {
     "iopub.execute_input": "2023-08-16T20:12:03.502538Z",
     "iopub.status.busy": "2023-08-16T20:12:03.501141Z",
     "iopub.status.idle": "2023-08-16T20:12:03.532218Z",
     "shell.execute_reply": "2023-08-16T20:12:03.531345Z"
    },
    "papermill": {
     "duration": 0.047405,
     "end_time": "2023-08-16T20:12:03.534675",
     "exception": false,
     "start_time": "2023-08-16T20:12:03.487270",
     "status": "completed"
    },
    "tags": []
   },
   "outputs": [
    {
     "data": {
      "text/html": [
       "<div>\n",
       "<style scoped>\n",
       "    .dataframe tbody tr th:only-of-type {\n",
       "        vertical-align: middle;\n",
       "    }\n",
       "\n",
       "    .dataframe tbody tr th {\n",
       "        vertical-align: top;\n",
       "    }\n",
       "\n",
       "    .dataframe thead th {\n",
       "        text-align: right;\n",
       "    }\n",
       "</style>\n",
       "<table border=\"1\" class=\"dataframe\">\n",
       "  <thead>\n",
       "    <tr style=\"text-align: right;\">\n",
       "      <th></th>\n",
       "      <th>MSSubClass</th>\n",
       "      <th>LotFrontage</th>\n",
       "      <th>LotArea</th>\n",
       "      <th>OverallQual</th>\n",
       "      <th>OverallCond</th>\n",
       "      <th>YearBuilt</th>\n",
       "      <th>YearRemodAdd</th>\n",
       "      <th>MasVnrArea</th>\n",
       "      <th>BsmtFinSF1</th>\n",
       "      <th>BsmtFinSF2</th>\n",
       "      <th>...</th>\n",
       "      <th>GarageArea</th>\n",
       "      <th>WoodDeckSF</th>\n",
       "      <th>OpenPorchSF</th>\n",
       "      <th>EnclosedPorch</th>\n",
       "      <th>3SsnPorch</th>\n",
       "      <th>ScreenPorch</th>\n",
       "      <th>PoolArea</th>\n",
       "      <th>MiscVal</th>\n",
       "      <th>MoSold</th>\n",
       "      <th>YrSold</th>\n",
       "    </tr>\n",
       "    <tr>\n",
       "      <th>Id</th>\n",
       "      <th></th>\n",
       "      <th></th>\n",
       "      <th></th>\n",
       "      <th></th>\n",
       "      <th></th>\n",
       "      <th></th>\n",
       "      <th></th>\n",
       "      <th></th>\n",
       "      <th></th>\n",
       "      <th></th>\n",
       "      <th></th>\n",
       "      <th></th>\n",
       "      <th></th>\n",
       "      <th></th>\n",
       "      <th></th>\n",
       "      <th></th>\n",
       "      <th></th>\n",
       "      <th></th>\n",
       "      <th></th>\n",
       "      <th></th>\n",
       "      <th></th>\n",
       "    </tr>\n",
       "  </thead>\n",
       "  <tbody>\n",
       "    <tr>\n",
       "      <th>619</th>\n",
       "      <td>20</td>\n",
       "      <td>90.0</td>\n",
       "      <td>11694</td>\n",
       "      <td>9</td>\n",
       "      <td>5</td>\n",
       "      <td>2007</td>\n",
       "      <td>2007</td>\n",
       "      <td>452.0</td>\n",
       "      <td>48</td>\n",
       "      <td>0</td>\n",
       "      <td>...</td>\n",
       "      <td>774</td>\n",
       "      <td>0</td>\n",
       "      <td>108</td>\n",
       "      <td>0</td>\n",
       "      <td>0</td>\n",
       "      <td>260</td>\n",
       "      <td>0</td>\n",
       "      <td>0</td>\n",
       "      <td>7</td>\n",
       "      <td>2007</td>\n",
       "    </tr>\n",
       "    <tr>\n",
       "      <th>871</th>\n",
       "      <td>20</td>\n",
       "      <td>60.0</td>\n",
       "      <td>6600</td>\n",
       "      <td>5</td>\n",
       "      <td>5</td>\n",
       "      <td>1962</td>\n",
       "      <td>1962</td>\n",
       "      <td>0.0</td>\n",
       "      <td>0</td>\n",
       "      <td>0</td>\n",
       "      <td>...</td>\n",
       "      <td>308</td>\n",
       "      <td>0</td>\n",
       "      <td>0</td>\n",
       "      <td>0</td>\n",
       "      <td>0</td>\n",
       "      <td>0</td>\n",
       "      <td>0</td>\n",
       "      <td>0</td>\n",
       "      <td>8</td>\n",
       "      <td>2009</td>\n",
       "    </tr>\n",
       "    <tr>\n",
       "      <th>93</th>\n",
       "      <td>30</td>\n",
       "      <td>80.0</td>\n",
       "      <td>13360</td>\n",
       "      <td>5</td>\n",
       "      <td>7</td>\n",
       "      <td>1921</td>\n",
       "      <td>2006</td>\n",
       "      <td>0.0</td>\n",
       "      <td>713</td>\n",
       "      <td>0</td>\n",
       "      <td>...</td>\n",
       "      <td>432</td>\n",
       "      <td>0</td>\n",
       "      <td>0</td>\n",
       "      <td>44</td>\n",
       "      <td>0</td>\n",
       "      <td>0</td>\n",
       "      <td>0</td>\n",
       "      <td>0</td>\n",
       "      <td>8</td>\n",
       "      <td>2009</td>\n",
       "    </tr>\n",
       "    <tr>\n",
       "      <th>818</th>\n",
       "      <td>20</td>\n",
       "      <td>NaN</td>\n",
       "      <td>13265</td>\n",
       "      <td>8</td>\n",
       "      <td>5</td>\n",
       "      <td>2002</td>\n",
       "      <td>2002</td>\n",
       "      <td>148.0</td>\n",
       "      <td>1218</td>\n",
       "      <td>0</td>\n",
       "      <td>...</td>\n",
       "      <td>857</td>\n",
       "      <td>150</td>\n",
       "      <td>59</td>\n",
       "      <td>0</td>\n",
       "      <td>0</td>\n",
       "      <td>0</td>\n",
       "      <td>0</td>\n",
       "      <td>0</td>\n",
       "      <td>7</td>\n",
       "      <td>2008</td>\n",
       "    </tr>\n",
       "    <tr>\n",
       "      <th>303</th>\n",
       "      <td>20</td>\n",
       "      <td>118.0</td>\n",
       "      <td>13704</td>\n",
       "      <td>7</td>\n",
       "      <td>5</td>\n",
       "      <td>2001</td>\n",
       "      <td>2002</td>\n",
       "      <td>150.0</td>\n",
       "      <td>0</td>\n",
       "      <td>0</td>\n",
       "      <td>...</td>\n",
       "      <td>843</td>\n",
       "      <td>468</td>\n",
       "      <td>81</td>\n",
       "      <td>0</td>\n",
       "      <td>0</td>\n",
       "      <td>0</td>\n",
       "      <td>0</td>\n",
       "      <td>0</td>\n",
       "      <td>1</td>\n",
       "      <td>2006</td>\n",
       "    </tr>\n",
       "  </tbody>\n",
       "</table>\n",
       "<p>5 rows × 36 columns</p>\n",
       "</div>"
      ],
      "text/plain": [
       "     MSSubClass  LotFrontage  LotArea  OverallQual  OverallCond  YearBuilt  \\\n",
       "Id                                                                           \n",
       "619          20         90.0    11694            9            5       2007   \n",
       "871          20         60.0     6600            5            5       1962   \n",
       "93           30         80.0    13360            5            7       1921   \n",
       "818          20          NaN    13265            8            5       2002   \n",
       "303          20        118.0    13704            7            5       2001   \n",
       "\n",
       "     YearRemodAdd  MasVnrArea  BsmtFinSF1  BsmtFinSF2  ...  GarageArea  \\\n",
       "Id                                                     ...               \n",
       "619          2007       452.0          48           0  ...         774   \n",
       "871          1962         0.0           0           0  ...         308   \n",
       "93           2006         0.0         713           0  ...         432   \n",
       "818          2002       148.0        1218           0  ...         857   \n",
       "303          2002       150.0           0           0  ...         843   \n",
       "\n",
       "     WoodDeckSF  OpenPorchSF  EnclosedPorch  3SsnPorch  ScreenPorch  PoolArea  \\\n",
       "Id                                                                              \n",
       "619           0          108              0          0          260         0   \n",
       "871           0            0              0          0            0         0   \n",
       "93            0            0             44          0            0         0   \n",
       "818         150           59              0          0            0         0   \n",
       "303         468           81              0          0            0         0   \n",
       "\n",
       "     MiscVal  MoSold  YrSold  \n",
       "Id                            \n",
       "619        0       7    2007  \n",
       "871        0       8    2009  \n",
       "93         0       8    2009  \n",
       "818        0       7    2008  \n",
       "303        0       1    2006  \n",
       "\n",
       "[5 rows x 36 columns]"
      ]
     },
     "execution_count": 3,
     "metadata": {},
     "output_type": "execute_result"
    }
   ],
   "source": [
    "X_train.head()"
   ]
  },
  {
   "cell_type": "markdown",
   "id": "d56c0d53",
   "metadata": {
    "papermill": {
     "duration": 0.012736,
     "end_time": "2023-08-16T20:12:03.560607",
     "exception": false,
     "start_time": "2023-08-16T20:12:03.547871",
     "status": "completed"
    },
    "tags": []
   },
   "source": [
    "You can already see a few missing values in the first several rows.  In the next step, you'll obtain a more comprehensive understanding of the missing values in the dataset.\n",
    "\n",
    "# Step 1: Preliminary investigation\n",
    "\n",
    "Run the code cell below without changes."
   ]
  },
  {
   "cell_type": "code",
   "execution_count": 4,
   "id": "fde6c546",
   "metadata": {
    "execution": {
     "iopub.execute_input": "2023-08-16T20:12:03.587907Z",
     "iopub.status.busy": "2023-08-16T20:12:03.587439Z",
     "iopub.status.idle": "2023-08-16T20:12:03.597245Z",
     "shell.execute_reply": "2023-08-16T20:12:03.595772Z"
    },
    "papermill": {
     "duration": 0.026672,
     "end_time": "2023-08-16T20:12:03.600021",
     "exception": false,
     "start_time": "2023-08-16T20:12:03.573349",
     "status": "completed"
    },
    "tags": []
   },
   "outputs": [
    {
     "name": "stdout",
     "output_type": "stream",
     "text": [
      "(1168, 36)\n",
      "LotFrontage    212\n",
      "MasVnrArea       6\n",
      "GarageYrBlt     58\n",
      "dtype: int64\n"
     ]
    }
   ],
   "source": [
    "# Shape of training data (num_rows, num_columns)\n",
    "print(X_train.shape)\n",
    "\n",
    "# Number of missing values in each column of training data\n",
    "missing_val_count_by_column = (X_train.isnull().sum())\n",
    "print(missing_val_count_by_column[missing_val_count_by_column > 0])"
   ]
  },
  {
   "cell_type": "markdown",
   "id": "1878b5cb",
   "metadata": {
    "papermill": {
     "duration": 0.012259,
     "end_time": "2023-08-16T20:12:03.624896",
     "exception": false,
     "start_time": "2023-08-16T20:12:03.612637",
     "status": "completed"
    },
    "tags": []
   },
   "source": [
    "### Part A\n",
    "\n",
    "Use the above output to answer the questions below."
   ]
  },
  {
   "cell_type": "code",
   "execution_count": 5,
   "id": "c369bd75",
   "metadata": {
    "execution": {
     "iopub.execute_input": "2023-08-16T20:12:03.652554Z",
     "iopub.status.busy": "2023-08-16T20:12:03.652089Z",
     "iopub.status.idle": "2023-08-16T20:12:03.663247Z",
     "shell.execute_reply": "2023-08-16T20:12:03.662022Z"
    },
    "papermill": {
     "duration": 0.02783,
     "end_time": "2023-08-16T20:12:03.665739",
     "exception": false,
     "start_time": "2023-08-16T20:12:03.637909",
     "status": "completed"
    },
    "tags": []
   },
   "outputs": [
    {
     "data": {
      "application/javascript": [
       "parent.postMessage({\"jupyterEvent\": \"custom.exercise_interaction\", \"data\": {\"outcomeType\": 1, \"valueTowardsCompletion\": 1.0, \"interactionType\": 1, \"questionType\": 1, \"questionId\": \"1.1_InvestigateEquality\", \"learnToolsVersion\": \"0.3.4\", \"failureMessage\": \"\", \"exceptionClass\": \"\", \"trace\": \"\"}}, \"*\")"
      ],
      "text/plain": [
       "<IPython.core.display.Javascript object>"
      ]
     },
     "metadata": {},
     "output_type": "display_data"
    },
    {
     "data": {
      "text/markdown": [
       "<span style=\"color:#33cc33\">Correct</span>"
      ],
      "text/plain": [
       "Correct"
      ]
     },
     "metadata": {},
     "output_type": "display_data"
    }
   ],
   "source": [
    "# Fill in the line below: How many rows are in the training data?\n",
    "num_rows = 1168\n",
    "\n",
    "# Fill in the line below: How many columns in the training data\n",
    "# have missing values?\n",
    "num_cols_with_missing = 3\n",
    "\n",
    "# Fill in the line below: How many missing entries are contained in \n",
    "# all of the training data?\n",
    "tot_missing = 276\n",
    "\n",
    "# Check your answers\n",
    "step_1.a.check()"
   ]
  },
  {
   "cell_type": "code",
   "execution_count": 6,
   "id": "3bb325f1",
   "metadata": {
    "execution": {
     "iopub.execute_input": "2023-08-16T20:12:03.694572Z",
     "iopub.status.busy": "2023-08-16T20:12:03.693342Z",
     "iopub.status.idle": "2023-08-16T20:12:03.700782Z",
     "shell.execute_reply": "2023-08-16T20:12:03.699279Z"
    },
    "papermill": {
     "duration": 0.024952,
     "end_time": "2023-08-16T20:12:03.703639",
     "exception": false,
     "start_time": "2023-08-16T20:12:03.678687",
     "status": "completed"
    },
    "tags": []
   },
   "outputs": [],
   "source": [
    "# Lines below will give you a hint or solution code\n",
    "#step_1.a.hint()\n",
    "#step_1.a.solution()"
   ]
  },
  {
   "cell_type": "markdown",
   "id": "548be39b",
   "metadata": {
    "papermill": {
     "duration": 0.012778,
     "end_time": "2023-08-16T20:12:03.729419",
     "exception": false,
     "start_time": "2023-08-16T20:12:03.716641",
     "status": "completed"
    },
    "tags": []
   },
   "source": [
    "### Part B\n",
    "Considering your answers above, what do you think is likely the best approach to dealing with the missing values?"
   ]
  },
  {
   "cell_type": "code",
   "execution_count": 7,
   "id": "8bc0203a",
   "metadata": {
    "execution": {
     "iopub.execute_input": "2023-08-16T20:12:03.759421Z",
     "iopub.status.busy": "2023-08-16T20:12:03.757892Z",
     "iopub.status.idle": "2023-08-16T20:12:03.769277Z",
     "shell.execute_reply": "2023-08-16T20:12:03.768153Z"
    },
    "papermill": {
     "duration": 0.030283,
     "end_time": "2023-08-16T20:12:03.772687",
     "exception": false,
     "start_time": "2023-08-16T20:12:03.742404",
     "status": "completed"
    },
    "tags": []
   },
   "outputs": [
    {
     "data": {
      "application/javascript": [
       "parent.postMessage({\"jupyterEvent\": \"custom.exercise_interaction\", \"data\": {\"outcomeType\": 1, \"valueTowardsCompletion\": 1.0, \"interactionType\": 1, \"questionType\": 4, \"questionId\": \"1.2_InvestigateThought\", \"learnToolsVersion\": \"0.3.4\", \"failureMessage\": \"\", \"exceptionClass\": \"\", \"trace\": \"\"}}, \"*\")"
      ],
      "text/plain": [
       "<IPython.core.display.Javascript object>"
      ]
     },
     "metadata": {},
     "output_type": "display_data"
    },
    {
     "data": {
      "text/markdown": [
       "<span style=\"color:#33cc33\">Correct:</span> \n",
       "\n",
       "Since there are relatively few missing entries in the data (the column with the greatest percentage of missing values is missing less than 20% of its entries), we can expect that dropping columns is unlikely to yield good results.  This is because we'd be throwing away a lot of valuable data, and so imputation will likely perform better."
      ],
      "text/plain": [
       "Correct: \n",
       "\n",
       "Since there are relatively few missing entries in the data (the column with the greatest percentage of missing values is missing less than 20% of its entries), we can expect that dropping columns is unlikely to yield good results.  This is because we'd be throwing away a lot of valuable data, and so imputation will likely perform better."
      ]
     },
     "metadata": {},
     "output_type": "display_data"
    }
   ],
   "source": [
    "# Check your answer (Run this code cell to receive credit!)\n",
    "\n",
    "step_1.b.check()"
   ]
  },
  {
   "cell_type": "code",
   "execution_count": 8,
   "id": "f9398ba1",
   "metadata": {
    "execution": {
     "iopub.execute_input": "2023-08-16T20:12:03.802499Z",
     "iopub.status.busy": "2023-08-16T20:12:03.801610Z",
     "iopub.status.idle": "2023-08-16T20:12:03.806842Z",
     "shell.execute_reply": "2023-08-16T20:12:03.805839Z"
    },
    "papermill": {
     "duration": 0.02275,
     "end_time": "2023-08-16T20:12:03.809324",
     "exception": false,
     "start_time": "2023-08-16T20:12:03.786574",
     "status": "completed"
    },
    "tags": []
   },
   "outputs": [],
   "source": [
    "# step_1.b.hint()"
   ]
  },
  {
   "cell_type": "markdown",
   "id": "5a06cdcd",
   "metadata": {
    "papermill": {
     "duration": 0.012685,
     "end_time": "2023-08-16T20:12:03.835489",
     "exception": false,
     "start_time": "2023-08-16T20:12:03.822804",
     "status": "completed"
    },
    "tags": []
   },
   "source": [
    "To compare different approaches to dealing with missing values, you'll use the same `score_dataset()` function from the tutorial.  This function reports the [mean absolute error](https://en.wikipedia.org/wiki/Mean_absolute_error) (MAE) from a random forest model."
   ]
  },
  {
   "cell_type": "code",
   "execution_count": 9,
   "id": "eacad3b7",
   "metadata": {
    "execution": {
     "iopub.execute_input": "2023-08-16T20:12:03.864099Z",
     "iopub.status.busy": "2023-08-16T20:12:03.863332Z",
     "iopub.status.idle": "2023-08-16T20:12:04.345161Z",
     "shell.execute_reply": "2023-08-16T20:12:04.343611Z"
    },
    "papermill": {
     "duration": 0.499396,
     "end_time": "2023-08-16T20:12:04.348224",
     "exception": false,
     "start_time": "2023-08-16T20:12:03.848828",
     "status": "completed"
    },
    "tags": []
   },
   "outputs": [],
   "source": [
    "from sklearn.ensemble import RandomForestRegressor\n",
    "from sklearn.metrics import mean_absolute_error\n",
    "\n",
    "# Function for comparing different approaches\n",
    "def score_dataset(X_train, X_valid, y_train, y_valid):\n",
    "    model = RandomForestRegressor(n_estimators=100, random_state=0)\n",
    "    model.fit(X_train, y_train)\n",
    "    preds = model.predict(X_valid)\n",
    "    return mean_absolute_error(y_valid, preds)"
   ]
  },
  {
   "cell_type": "markdown",
   "id": "67a59112",
   "metadata": {
    "papermill": {
     "duration": 0.01307,
     "end_time": "2023-08-16T20:12:04.374779",
     "exception": false,
     "start_time": "2023-08-16T20:12:04.361709",
     "status": "completed"
    },
    "tags": []
   },
   "source": [
    "# Step 2: Drop columns with missing values\n",
    "\n",
    "In this step, you'll preprocess the data in `X_train` and `X_valid` to remove columns with missing values.  Set the preprocessed DataFrames to `reduced_X_train` and `reduced_X_valid`, respectively.  "
   ]
  },
  {
   "cell_type": "code",
   "execution_count": 10,
   "id": "d53edbba",
   "metadata": {
    "execution": {
     "iopub.execute_input": "2023-08-16T20:12:04.403591Z",
     "iopub.status.busy": "2023-08-16T20:12:04.403138Z",
     "iopub.status.idle": "2023-08-16T20:12:04.437786Z",
     "shell.execute_reply": "2023-08-16T20:12:04.436741Z"
    },
    "papermill": {
     "duration": 0.052194,
     "end_time": "2023-08-16T20:12:04.440263",
     "exception": false,
     "start_time": "2023-08-16T20:12:04.388069",
     "status": "completed"
    },
    "tags": []
   },
   "outputs": [
    {
     "data": {
      "application/javascript": [
       "parent.postMessage({\"jupyterEvent\": \"custom.exercise_interaction\", \"data\": {\"outcomeType\": 1, \"valueTowardsCompletion\": 1.0, \"interactionType\": 1, \"questionType\": 2, \"questionId\": \"2_DropMissing\", \"learnToolsVersion\": \"0.3.4\", \"failureMessage\": \"\", \"exceptionClass\": \"\", \"trace\": \"\"}}, \"*\")"
      ],
      "text/plain": [
       "<IPython.core.display.Javascript object>"
      ]
     },
     "metadata": {},
     "output_type": "display_data"
    },
    {
     "data": {
      "text/markdown": [
       "<span style=\"color:#33cc33\">Correct</span>"
      ],
      "text/plain": [
       "Correct"
      ]
     },
     "metadata": {},
     "output_type": "display_data"
    }
   ],
   "source": [
    "# Fill in the line below: get names of columns with missing values\n",
    "# Get names of columns with missing values\n",
    "cols_with_missing = [col for col in X_train.columns\n",
    "                     if X_train[col].isnull().any()]\n",
    "\n",
    "# Fill in the lines below: drop columns in training and validation data\n",
    "reduced_X_train = X_train.drop(cols_with_missing, axis=1)\n",
    "reduced_X_valid = X_valid.drop(cols_with_missing, axis=1)\n",
    "\n",
    "# Check your answers\n",
    "step_2.check()"
   ]
  },
  {
   "cell_type": "code",
   "execution_count": 11,
   "id": "e0a18d46",
   "metadata": {
    "execution": {
     "iopub.execute_input": "2023-08-16T20:12:04.470018Z",
     "iopub.status.busy": "2023-08-16T20:12:04.469230Z",
     "iopub.status.idle": "2023-08-16T20:12:04.474175Z",
     "shell.execute_reply": "2023-08-16T20:12:04.473211Z"
    },
    "papermill": {
     "duration": 0.022894,
     "end_time": "2023-08-16T20:12:04.476683",
     "exception": false,
     "start_time": "2023-08-16T20:12:04.453789",
     "status": "completed"
    },
    "tags": []
   },
   "outputs": [],
   "source": [
    "# Lines below will give you a hint or solution code\n",
    "#step_2.hint()\n",
    "#step_2.solution()"
   ]
  },
  {
   "cell_type": "markdown",
   "id": "581ef936",
   "metadata": {
    "papermill": {
     "duration": 0.013348,
     "end_time": "2023-08-16T20:12:04.504433",
     "exception": false,
     "start_time": "2023-08-16T20:12:04.491085",
     "status": "completed"
    },
    "tags": []
   },
   "source": [
    "Run the next code cell without changes to obtain the MAE for this approach."
   ]
  },
  {
   "cell_type": "code",
   "execution_count": 12,
   "id": "bd4c826b",
   "metadata": {
    "execution": {
     "iopub.execute_input": "2023-08-16T20:12:04.533850Z",
     "iopub.status.busy": "2023-08-16T20:12:04.533389Z",
     "iopub.status.idle": "2023-08-16T20:12:05.879516Z",
     "shell.execute_reply": "2023-08-16T20:12:05.877476Z"
    },
    "papermill": {
     "duration": 1.365708,
     "end_time": "2023-08-16T20:12:05.883805",
     "exception": false,
     "start_time": "2023-08-16T20:12:04.518097",
     "status": "completed"
    },
    "tags": []
   },
   "outputs": [
    {
     "name": "stdout",
     "output_type": "stream",
     "text": [
      "MAE (Drop columns with missing values):\n",
      "17837.82570776256\n"
     ]
    }
   ],
   "source": [
    "print(\"MAE (Drop columns with missing values):\")\n",
    "print(score_dataset(reduced_X_train, reduced_X_valid, y_train, y_valid))"
   ]
  },
  {
   "cell_type": "markdown",
   "id": "c9ff4834",
   "metadata": {
    "papermill": {
     "duration": 0.013483,
     "end_time": "2023-08-16T20:12:05.913083",
     "exception": false,
     "start_time": "2023-08-16T20:12:05.899600",
     "status": "completed"
    },
    "tags": []
   },
   "source": [
    "# Step 3: Imputation\n",
    "\n",
    "### Part A\n",
    "\n",
    "Use the next code cell to impute missing values with the mean value along each column.  Set the preprocessed DataFrames to `imputed_X_train` and `imputed_X_valid`.  Make sure that the column names match those in `X_train` and `X_valid`."
   ]
  },
  {
   "cell_type": "code",
   "execution_count": 13,
   "id": "f1aea84d",
   "metadata": {
    "execution": {
     "iopub.execute_input": "2023-08-16T20:12:05.943525Z",
     "iopub.status.busy": "2023-08-16T20:12:05.942489Z",
     "iopub.status.idle": "2023-08-16T20:12:05.992815Z",
     "shell.execute_reply": "2023-08-16T20:12:05.991593Z"
    },
    "papermill": {
     "duration": 0.068558,
     "end_time": "2023-08-16T20:12:05.995619",
     "exception": false,
     "start_time": "2023-08-16T20:12:05.927061",
     "status": "completed"
    },
    "tags": []
   },
   "outputs": [
    {
     "data": {
      "application/javascript": [
       "parent.postMessage({\"jupyterEvent\": \"custom.exercise_interaction\", \"data\": {\"outcomeType\": 1, \"valueTowardsCompletion\": 1.0, \"interactionType\": 1, \"questionType\": 2, \"questionId\": \"3.1_ImputeCode\", \"learnToolsVersion\": \"0.3.4\", \"failureMessage\": \"\", \"exceptionClass\": \"\", \"trace\": \"\"}}, \"*\")"
      ],
      "text/plain": [
       "<IPython.core.display.Javascript object>"
      ]
     },
     "metadata": {},
     "output_type": "display_data"
    },
    {
     "data": {
      "text/markdown": [
       "<span style=\"color:#33cc33\">Correct</span>"
      ],
      "text/plain": [
       "Correct"
      ]
     },
     "metadata": {},
     "output_type": "display_data"
    }
   ],
   "source": [
    "from sklearn.impute import SimpleImputer\n",
    "\n",
    "# Fill in the lines below: imputation\n",
    "from sklearn.impute import SimpleImputer\n",
    "my_imputer = SimpleImputer()\n",
    "\n",
    "imputed_X_train = pd.DataFrame(my_imputer.fit_transform(X_train))\n",
    "imputed_X_valid = pd.DataFrame(my_imputer.transform(X_valid))\n",
    "\n",
    "# Fill in the lines below: imputation removed column names; put them back\n",
    "imputed_X_train.columns = X_train.columns\n",
    "imputed_X_valid.columns = X_valid.columns\n",
    "\n",
    "\n",
    "# Check your answers\n",
    "step_3.a.check()"
   ]
  },
  {
   "cell_type": "code",
   "execution_count": 14,
   "id": "df37dfd3",
   "metadata": {
    "execution": {
     "iopub.execute_input": "2023-08-16T20:12:06.027491Z",
     "iopub.status.busy": "2023-08-16T20:12:06.027041Z",
     "iopub.status.idle": "2023-08-16T20:12:06.033520Z",
     "shell.execute_reply": "2023-08-16T20:12:06.031971Z"
    },
    "papermill": {
     "duration": 0.025753,
     "end_time": "2023-08-16T20:12:06.036358",
     "exception": false,
     "start_time": "2023-08-16T20:12:06.010605",
     "status": "completed"
    },
    "tags": []
   },
   "outputs": [],
   "source": [
    "# Lines below will give you a hint or solution code\n",
    "#step_3.a.hint()\n",
    "#step_3.a.solution()"
   ]
  },
  {
   "cell_type": "markdown",
   "id": "83954723",
   "metadata": {
    "papermill": {
     "duration": 0.013833,
     "end_time": "2023-08-16T20:12:06.066169",
     "exception": false,
     "start_time": "2023-08-16T20:12:06.052336",
     "status": "completed"
    },
    "tags": []
   },
   "source": [
    "Run the next code cell without changes to obtain the MAE for this approach."
   ]
  },
  {
   "cell_type": "code",
   "execution_count": 15,
   "id": "5ee44445",
   "metadata": {
    "execution": {
     "iopub.execute_input": "2023-08-16T20:12:06.097698Z",
     "iopub.status.busy": "2023-08-16T20:12:06.097210Z",
     "iopub.status.idle": "2023-08-16T20:12:07.567897Z",
     "shell.execute_reply": "2023-08-16T20:12:07.566434Z"
    },
    "papermill": {
     "duration": 1.489955,
     "end_time": "2023-08-16T20:12:07.571203",
     "exception": false,
     "start_time": "2023-08-16T20:12:06.081248",
     "status": "completed"
    },
    "tags": []
   },
   "outputs": [
    {
     "name": "stdout",
     "output_type": "stream",
     "text": [
      "MAE (Imputation):\n",
      "18062.894611872147\n"
     ]
    }
   ],
   "source": [
    "print(\"MAE (Imputation):\")\n",
    "print(score_dataset(imputed_X_train, imputed_X_valid, y_train, y_valid))"
   ]
  },
  {
   "cell_type": "markdown",
   "id": "b6266f25",
   "metadata": {
    "papermill": {
     "duration": 0.014189,
     "end_time": "2023-08-16T20:12:07.600617",
     "exception": false,
     "start_time": "2023-08-16T20:12:07.586428",
     "status": "completed"
    },
    "tags": []
   },
   "source": [
    "### Part B\n",
    "\n",
    "Compare the MAE from each approach.  Does anything surprise you about the results?  Why do you think one approach performed better than the other?"
   ]
  },
  {
   "cell_type": "code",
   "execution_count": 16,
   "id": "a18edce3",
   "metadata": {
    "execution": {
     "iopub.execute_input": "2023-08-16T20:12:07.632949Z",
     "iopub.status.busy": "2023-08-16T20:12:07.631354Z",
     "iopub.status.idle": "2023-08-16T20:12:07.642066Z",
     "shell.execute_reply": "2023-08-16T20:12:07.640976Z"
    },
    "papermill": {
     "duration": 0.029203,
     "end_time": "2023-08-16T20:12:07.644476",
     "exception": false,
     "start_time": "2023-08-16T20:12:07.615273",
     "status": "completed"
    },
    "tags": []
   },
   "outputs": [
    {
     "data": {
      "application/javascript": [
       "parent.postMessage({\"jupyterEvent\": \"custom.exercise_interaction\", \"data\": {\"outcomeType\": 1, \"valueTowardsCompletion\": 1.0, \"interactionType\": 1, \"questionType\": 4, \"questionId\": \"3.2_ImputeThought\", \"learnToolsVersion\": \"0.3.4\", \"failureMessage\": \"\", \"exceptionClass\": \"\", \"trace\": \"\"}}, \"*\")"
      ],
      "text/plain": [
       "<IPython.core.display.Javascript object>"
      ]
     },
     "metadata": {},
     "output_type": "display_data"
    },
    {
     "data": {
      "text/markdown": [
       "<span style=\"color:#33cc33\">Correct:</span> \n",
       "\n",
       "Given that thre are so few missing values in the dataset, we'd expect imputation to perform better than dropping columns entirely.  However, we see that dropping columns performs slightly better!  While this can probably partially be attributed to noise in the dataset, another potential explanation is that the imputation method is not a great match to this dataset.  That is, maybe instead of filling in the mean value, it makes more sense to set every missing value to a value of 0, to fill in the most frequently encountered value, or to use some other method.  For instance, consider the `GarageYrBlt` column (which indicates the year that the garage was built).  It's likely that in some cases, a missing value could indicate a house that does not have a garage.  Does it make more sense to fill in the median value along each column in this case?  Or could we get better results by filling in the minimum value along each column?  It's not quite clear what's best in this case, but perhaps we can rule out some options immediately - for instance, setting missing values in this column to 0 is likely to yield horrible results!"
      ],
      "text/plain": [
       "Correct: \n",
       "\n",
       "Given that thre are so few missing values in the dataset, we'd expect imputation to perform better than dropping columns entirely.  However, we see that dropping columns performs slightly better!  While this can probably partially be attributed to noise in the dataset, another potential explanation is that the imputation method is not a great match to this dataset.  That is, maybe instead of filling in the mean value, it makes more sense to set every missing value to a value of 0, to fill in the most frequently encountered value, or to use some other method.  For instance, consider the `GarageYrBlt` column (which indicates the year that the garage was built).  It's likely that in some cases, a missing value could indicate a house that does not have a garage.  Does it make more sense to fill in the median value along each column in this case?  Or could we get better results by filling in the minimum value along each column?  It's not quite clear what's best in this case, but perhaps we can rule out some options immediately - for instance, setting missing values in this column to 0 is likely to yield horrible results!"
      ]
     },
     "metadata": {},
     "output_type": "display_data"
    }
   ],
   "source": [
    "# Check your answer (Run this code cell to receive credit!)\n",
    "step_3.b.check()"
   ]
  },
  {
   "cell_type": "code",
   "execution_count": 17,
   "id": "1068b8aa",
   "metadata": {
    "execution": {
     "iopub.execute_input": "2023-08-16T20:12:07.677363Z",
     "iopub.status.busy": "2023-08-16T20:12:07.675933Z",
     "iopub.status.idle": "2023-08-16T20:12:07.680909Z",
     "shell.execute_reply": "2023-08-16T20:12:07.680082Z"
    },
    "papermill": {
     "duration": 0.023866,
     "end_time": "2023-08-16T20:12:07.683264",
     "exception": false,
     "start_time": "2023-08-16T20:12:07.659398",
     "status": "completed"
    },
    "tags": []
   },
   "outputs": [],
   "source": [
    "#step_3.b.hint()"
   ]
  },
  {
   "cell_type": "markdown",
   "id": "ce9fc72e",
   "metadata": {
    "papermill": {
     "duration": 0.014592,
     "end_time": "2023-08-16T20:12:07.713201",
     "exception": false,
     "start_time": "2023-08-16T20:12:07.698609",
     "status": "completed"
    },
    "tags": []
   },
   "source": [
    "# Step 4: Generate test predictions\n",
    "\n",
    "In this final step, you'll use any approach of your choosing to deal with missing values.  Once you've preprocessed the training and validation features, you'll train and evaluate a random forest model.  Then, you'll preprocess the test data before generating predictions that can be submitted to the competition!\n",
    "\n",
    "### Part A\n",
    "\n",
    "Use the next code cell to preprocess the training and validation data.  Set the preprocessed DataFrames to `final_X_train` and `final_X_valid`.  **You can use any approach of your choosing here!**  in order for this step to be marked as correct, you need only ensure:\n",
    "- the preprocessed DataFrames have the same number of columns,\n",
    "- the preprocessed DataFrames have no missing values, \n",
    "- `final_X_train` and `y_train` have the same number of rows, and\n",
    "- `final_X_valid` and `y_valid` have the same number of rows."
   ]
  },
  {
   "cell_type": "code",
   "execution_count": 18,
   "id": "b9cb464f",
   "metadata": {
    "execution": {
     "iopub.execute_input": "2023-08-16T20:12:07.744954Z",
     "iopub.status.busy": "2023-08-16T20:12:07.744498Z",
     "iopub.status.idle": "2023-08-16T20:12:07.784568Z",
     "shell.execute_reply": "2023-08-16T20:12:07.783321Z"
    },
    "papermill": {
     "duration": 0.059196,
     "end_time": "2023-08-16T20:12:07.787216",
     "exception": false,
     "start_time": "2023-08-16T20:12:07.728020",
     "status": "completed"
    },
    "tags": []
   },
   "outputs": [
    {
     "data": {
      "application/javascript": [
       "parent.postMessage({\"jupyterEvent\": \"custom.exercise_interaction\", \"data\": {\"outcomeType\": 1, \"valueTowardsCompletion\": 1.0, \"interactionType\": 1, \"questionType\": 2, \"questionId\": \"4.1_PredsCodeA\", \"learnToolsVersion\": \"0.3.4\", \"failureMessage\": \"\", \"exceptionClass\": \"\", \"trace\": \"\"}}, \"*\")"
      ],
      "text/plain": [
       "<IPython.core.display.Javascript object>"
      ]
     },
     "metadata": {},
     "output_type": "display_data"
    },
    {
     "data": {
      "text/markdown": [
       "<span style=\"color:#33cc33\">Correct</span>"
      ],
      "text/plain": [
       "Correct"
      ]
     },
     "metadata": {},
     "output_type": "display_data"
    }
   ],
   "source": [
    "# Imputation\n",
    "final_imputer = SimpleImputer(strategy='median')\n",
    "final_X_train = pd.DataFrame(final_imputer.fit_transform(X_train))\n",
    "final_X_valid = pd.DataFrame(final_imputer.transform(X_valid))\n",
    "\n",
    "# Preprocessed training and validation features\n",
    "final_X_train.columns = X_train.columns\n",
    "final_X_valid.columns = X_valid.columns\n",
    "\n",
    "# Check your answers\n",
    "step_4.a.check()"
   ]
  },
  {
   "cell_type": "code",
   "execution_count": 19,
   "id": "c7cc395f",
   "metadata": {
    "execution": {
     "iopub.execute_input": "2023-08-16T20:12:07.821206Z",
     "iopub.status.busy": "2023-08-16T20:12:07.820762Z",
     "iopub.status.idle": "2023-08-16T20:12:07.825330Z",
     "shell.execute_reply": "2023-08-16T20:12:07.824329Z"
    },
    "papermill": {
     "duration": 0.024499,
     "end_time": "2023-08-16T20:12:07.827505",
     "exception": false,
     "start_time": "2023-08-16T20:12:07.803006",
     "status": "completed"
    },
    "tags": []
   },
   "outputs": [],
   "source": [
    "# Lines below will give you a hint or solution code\n",
    "#step_4.a.hint()\n",
    "# step_4.a.solution()"
   ]
  },
  {
   "cell_type": "markdown",
   "id": "baf94e1b",
   "metadata": {
    "papermill": {
     "duration": 0.014754,
     "end_time": "2023-08-16T20:12:07.857397",
     "exception": false,
     "start_time": "2023-08-16T20:12:07.842643",
     "status": "completed"
    },
    "tags": []
   },
   "source": [
    "Run the next code cell to train and evaluate a random forest model.  (*Note that we don't use the `score_dataset()` function above, because we will soon use the trained model to generate test predictions!*)"
   ]
  },
  {
   "cell_type": "code",
   "execution_count": 20,
   "id": "772c8d52",
   "metadata": {
    "execution": {
     "iopub.execute_input": "2023-08-16T20:12:07.890919Z",
     "iopub.status.busy": "2023-08-16T20:12:07.889557Z",
     "iopub.status.idle": "2023-08-16T20:12:09.366151Z",
     "shell.execute_reply": "2023-08-16T20:12:09.364941Z"
    },
    "papermill": {
     "duration": 1.496397,
     "end_time": "2023-08-16T20:12:09.369015",
     "exception": false,
     "start_time": "2023-08-16T20:12:07.872618",
     "status": "completed"
    },
    "tags": []
   },
   "outputs": [
    {
     "name": "stdout",
     "output_type": "stream",
     "text": [
      "MAE (Your approach):\n",
      "17791.59899543379\n"
     ]
    }
   ],
   "source": [
    "# Define and fit model\n",
    "model = RandomForestRegressor(n_estimators=100, random_state=0)\n",
    "model.fit(final_X_train, y_train)\n",
    "\n",
    "# Get validation predictions and MAE\n",
    "preds_valid = model.predict(final_X_valid)\n",
    "print(\"MAE (Your approach):\")\n",
    "print(mean_absolute_error(y_valid, preds_valid))"
   ]
  },
  {
   "cell_type": "markdown",
   "id": "2397694f",
   "metadata": {
    "papermill": {
     "duration": 0.015131,
     "end_time": "2023-08-16T20:12:09.399615",
     "exception": false,
     "start_time": "2023-08-16T20:12:09.384484",
     "status": "completed"
    },
    "tags": []
   },
   "source": [
    "### Part B\n",
    "\n",
    "Use the next code cell to preprocess your test data.  Make sure that you use a method that agrees with how you preprocessed the training and validation data, and set the preprocessed test features to `final_X_test`.\n",
    "\n",
    "Then, use the preprocessed test features and the trained model to generate test predictions in `preds_test`.\n",
    "\n",
    "In order for this step to be marked correct, you need only ensure:\n",
    "- the preprocessed test DataFrame has no missing values, and\n",
    "- `final_X_test` has the same number of rows as `X_test`."
   ]
  },
  {
   "cell_type": "code",
   "execution_count": 21,
   "id": "3fed363d",
   "metadata": {
    "execution": {
     "iopub.execute_input": "2023-08-16T20:12:09.433033Z",
     "iopub.status.busy": "2023-08-16T20:12:09.432186Z",
     "iopub.status.idle": "2023-08-16T20:12:09.500383Z",
     "shell.execute_reply": "2023-08-16T20:12:09.499068Z"
    },
    "papermill": {
     "duration": 0.088039,
     "end_time": "2023-08-16T20:12:09.502911",
     "exception": false,
     "start_time": "2023-08-16T20:12:09.414872",
     "status": "completed"
    },
    "tags": []
   },
   "outputs": [
    {
     "name": "stderr",
     "output_type": "stream",
     "text": [
      "/opt/conda/lib/python3.10/site-packages/sklearn/base.py:439: UserWarning: X does not have valid feature names, but RandomForestRegressor was fitted with feature names\n",
      "  warnings.warn(\n"
     ]
    },
    {
     "data": {
      "application/javascript": [
       "parent.postMessage({\"jupyterEvent\": \"custom.exercise_interaction\", \"data\": {\"outcomeType\": 1, \"valueTowardsCompletion\": 1.0, \"interactionType\": 1, \"questionType\": 2, \"questionId\": \"4.2_PredsCodeB\", \"learnToolsVersion\": \"0.3.4\", \"failureMessage\": \"\", \"exceptionClass\": \"\", \"trace\": \"\"}}, \"*\")"
      ],
      "text/plain": [
       "<IPython.core.display.Javascript object>"
      ]
     },
     "metadata": {},
     "output_type": "display_data"
    },
    {
     "data": {
      "text/markdown": [
       "<span style=\"color:#33cc33\">Correct</span>"
      ],
      "text/plain": [
       "Correct"
      ]
     },
     "metadata": {},
     "output_type": "display_data"
    }
   ],
   "source": [
    "# Fill in the line below: preprocess test data\n",
    "final_X_test = pd.DataFrame(final_imputer.transform(X_test))\n",
    "\n",
    "# Fill in the line below: get test predictions\n",
    "preds_test = model.predict(final_X_test)\n",
    "\n",
    "# Check your answers\n",
    "step_4.b.check()"
   ]
  },
  {
   "cell_type": "code",
   "execution_count": 22,
   "id": "048271bd",
   "metadata": {
    "execution": {
     "iopub.execute_input": "2023-08-16T20:12:09.537645Z",
     "iopub.status.busy": "2023-08-16T20:12:09.536384Z",
     "iopub.status.idle": "2023-08-16T20:12:09.541842Z",
     "shell.execute_reply": "2023-08-16T20:12:09.540547Z"
    },
    "papermill": {
     "duration": 0.026061,
     "end_time": "2023-08-16T20:12:09.544861",
     "exception": false,
     "start_time": "2023-08-16T20:12:09.518800",
     "status": "completed"
    },
    "tags": []
   },
   "outputs": [],
   "source": [
    "# Lines below will give you a hint or solution code\n",
    "#step_4.b.hint()\n",
    "# step_4.b.solution()"
   ]
  },
  {
   "cell_type": "markdown",
   "id": "651596b7",
   "metadata": {
    "papermill": {
     "duration": 0.015855,
     "end_time": "2023-08-16T20:12:09.577101",
     "exception": false,
     "start_time": "2023-08-16T20:12:09.561246",
     "status": "completed"
    },
    "tags": []
   },
   "source": [
    "Run the next code cell without changes to save your results to a CSV file that can be submitted directly to the competition."
   ]
  },
  {
   "cell_type": "code",
   "execution_count": 23,
   "id": "65c1e58e",
   "metadata": {
    "execution": {
     "iopub.execute_input": "2023-08-16T20:12:09.614809Z",
     "iopub.status.busy": "2023-08-16T20:12:09.614235Z",
     "iopub.status.idle": "2023-08-16T20:12:09.631549Z",
     "shell.execute_reply": "2023-08-16T20:12:09.630266Z"
    },
    "papermill": {
     "duration": 0.040756,
     "end_time": "2023-08-16T20:12:09.634892",
     "exception": false,
     "start_time": "2023-08-16T20:12:09.594136",
     "status": "completed"
    },
    "tags": []
   },
   "outputs": [],
   "source": [
    "# Save test predictions to file\n",
    "output = pd.DataFrame({'Id': X_test.index,\n",
    "                       'SalePrice': preds_test})\n",
    "output.to_csv('submission.csv', index=False)"
   ]
  },
  {
   "cell_type": "markdown",
   "id": "0621bd13",
   "metadata": {
    "papermill": {
     "duration": 0.017239,
     "end_time": "2023-08-16T20:12:09.669588",
     "exception": false,
     "start_time": "2023-08-16T20:12:09.652349",
     "status": "completed"
    },
    "tags": []
   },
   "source": [
    "# Submit your results\n",
    "\n",
    "Once you have successfully completed Step 4, you're ready to submit your results to the leaderboard!  (_You also learned how to do this in the previous exercise.  If you need a reminder of how to do this, please use the instructions below._)  \n",
    "\n",
    "First, you'll need to join the competition if you haven't already.  So open a new window by clicking on [this link](https://www.kaggle.com/c/home-data-for-ml-course).  Then click on the **Join Competition** button.\n",
    "\n",
    "![join competition image](https://storage.googleapis.com/kaggle-media/learn/images/wLmFtH3.png)\n",
    "\n",
    "Next, follow the instructions below:\n",
    "1. Begin by clicking on the **Save Version** button in the top right corner of the window.  This will generate a pop-up window.  \n",
    "2. Ensure that the **Save and Run All** option is selected, and then click on the **Save** button.\n",
    "3. This generates a window in the bottom left corner of the notebook.  After it has finished running, click on the number to the right of the **Save Version** button.  This pulls up a list of versions on the right of the screen.  Click on the ellipsis **(...)** to the right of the most recent version, and select **Open in Viewer**.  This brings you into view mode of the same page. You will need to scroll down to get back to these instructions.\n",
    "4. Click on the **Data** tab near the top of the screen.  Then, click on the file you would like to submit, and click on the **Submit** button to submit your results to the leaderboard.\n",
    "\n",
    "You have now successfully submitted to the competition!\n",
    "\n",
    "If you want to keep working to improve your performance, select the **Edit** button in the top right of the screen. Then you can change your code and repeat the process. There's a lot of room to improve, and you will climb up the leaderboard as you work.\n",
    "\n",
    "\n",
    "# Keep going\n",
    "\n",
    "Move on to learn what **[categorical variables](https://www.kaggle.com/alexisbcook/categorical-variables)** are, along with how to incorporate them into your machine learning models.  Categorical variables are very common in real-world data, but you'll get an error if you try to plug them into your models without processing them first!"
   ]
  },
  {
   "cell_type": "markdown",
   "id": "0a130aba",
   "metadata": {
    "papermill": {
     "duration": 0.015297,
     "end_time": "2023-08-16T20:12:09.701200",
     "exception": false,
     "start_time": "2023-08-16T20:12:09.685903",
     "status": "completed"
    },
    "tags": []
   },
   "source": [
    "---\n",
    "\n",
    "\n",
    "\n",
    "\n",
    "*Have questions or comments? Visit the [course discussion forum](https://www.kaggle.com/learn/intermediate-machine-learning/discussion) to chat with other learners.*"
   ]
  }
 ],
 "metadata": {
  "kernelspec": {
   "display_name": "Python 3",
   "language": "python",
   "name": "python3"
  },
  "language_info": {
   "codemirror_mode": {
    "name": "ipython",
    "version": 3
   },
   "file_extension": ".py",
   "mimetype": "text/x-python",
   "name": "python",
   "nbconvert_exporter": "python",
   "pygments_lexer": "ipython3",
   "version": "3.10.12"
  },
  "papermill": {
   "default_parameters": {},
   "duration": 23.562541,
   "end_time": "2023-08-16T20:12:11.043034",
   "environment_variables": {},
   "exception": null,
   "input_path": "__notebook__.ipynb",
   "output_path": "__notebook__.ipynb",
   "parameters": {},
   "start_time": "2023-08-16T20:11:47.480493",
   "version": "2.4.0"
  }
 },
 "nbformat": 4,
 "nbformat_minor": 5
}
